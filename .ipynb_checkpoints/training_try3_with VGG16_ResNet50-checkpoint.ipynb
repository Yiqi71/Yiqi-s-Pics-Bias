{
 "cells": [
  {
   "cell_type": "markdown",
   "id": "47adc055-4d94-4d26-8152-c7341a0a1679",
   "metadata": {},
   "source": [
    "prompt:\n",
    "我想用别人训练好的模型去分辨我这些图片里是什么动物，从而辅助我这个模型更理解我给不同动物图片打分的逻辑\n",
    "有没有一个能识别动物的model我能用的"
   ]
  },
  {
   "cell_type": "markdown",
   "id": "6030bd34-46d8-4954-b4b9-44450a773dbd",
   "metadata": {},
   "source": [
    "ResNet50 作为预训练的卷积基模型被用于提取图片的特征。通过将 include_top=False，我们去掉了原本用于分类的顶部全连接层，只保留了卷积层和池化层，提取出来的特征会传给后续的全连接层进行分类。\n",
    "\n",
    "GlobalAveragePooling2D：这一层用于池化 ResNet50 输出的特征图，它会将每个通道的特征图缩减为一个单一的数值。这个操作帮助我们减少模型的参数量和计算量。\n",
    "\n",
    "训练部分：数据被划分为训练集、验证集和测试集。然后用 fit() 训练模型，训练过程中可以通过 TensorBoard 可视化训练过程。\n",
    "\n",
    "比较两个图片：通过调整图片大小并输入到模型中，比较模型对两张图片的预测结果，得出你更喜欢的图片。"
   ]
  },
  {
   "cell_type": "markdown",
   "id": "d4a8f0ac-c7a2-4e2b-b35c-f8d6f0d461bd",
   "metadata": {},
   "source": [
    "1. 准备环境"
   ]
  },
  {
   "cell_type": "code",
   "execution_count": 31,
   "id": "d5998d1f-4988-4018-bc58-8ba41af35832",
   "metadata": {},
   "outputs": [],
   "source": [
    "import os\n",
    "import cv2\n",
    "import pandas as pd\n",
    "import numpy as np\n",
    "import tensorflow as tf\n",
    "from tensorflow.keras.preprocessing import image\n",
    "from tensorflow.keras.applications import ResNet50\n",
    "from tensorflow.keras.models import Model, Sequential\n",
    "from tensorflow.keras.layers import Dense, GlobalAveragePooling2D, Input\n",
    "from sklearn.model_selection import train_test_split"
   ]
  },
  {
   "cell_type": "markdown",
   "id": "3a84ec33-ca20-4c91-b75e-a5d4c7a920a8",
   "metadata": {},
   "source": [
    "2. 加载图片和评分"
   ]
  },
  {
   "cell_type": "code",
   "execution_count": 19,
   "id": "f3e8f92d-983d-452c-a127-49358841ec21",
   "metadata": {},
   "outputs": [],
   "source": [
    "# 加载CSV文件\n",
    "df = pd.read_csv('elo_scores.csv')\n",
    "\n",
    "# 获取图片路径和对应的评分\n",
    "image_paths = df['Photo'].apply(lambda x: os.path.join('animal_pics', x)).tolist()\n",
    "scores = df['Score'].tolist()\n"
   ]
  },
  {
   "cell_type": "markdown",
   "id": "47f000af-c47a-4396-9e5d-a86e37e56038",
   "metadata": {},
   "source": [
    "3. 加载和预处理图片"
   ]
  },
  {
   "cell_type": "code",
   "execution_count": 20,
   "id": "4602d8fd-2826-407f-86b5-547584afe837",
   "metadata": {
    "scrolled": true
   },
   "outputs": [],
   "source": [
    "# 加载图片并进行预处理\n",
    "def load_image(image_path):\n",
    "    img = image.load_img(image_path, target_size=(256, 256))  # 加载图片并调整大小\n",
    "    img_array = image.img_to_array(img)  # 将图片转换为数组\n",
    "    img_array = img_array / 255.0  # 归一化处理\n",
    "    return img_array\n",
    "\n",
    "images = [load_image(path) for path in image_paths]\n",
    "images = np.array(images)  # 将所有图片数组合并为一个NumPy数组\n",
    "\n",
    "# 将评分数据转换为NumPy数组\n",
    "scores = np.array(scores)"
   ]
  },
  {
   "cell_type": "markdown",
   "id": "c4924e15-f267-4643-ac70-6e434a08ffea",
   "metadata": {},
   "source": [
    "4. 使用ResNet50提取图片特征"
   ]
  },
  {
   "cell_type": "code",
   "execution_count": 21,
   "id": "65f7031f-5500-495e-afbe-b6da843e2acb",
   "metadata": {},
   "outputs": [
    {
     "name": "stdout",
     "output_type": "stream",
     "text": [
      "Downloading data from https://storage.googleapis.com/tensorflow/keras-applications/resnet/resnet50_weights_tf_dim_ordering_tf_kernels_notop.h5\n",
      "\u001b[1m94765736/94765736\u001b[0m \u001b[32m━━━━━━━━━━━━━━━━━━━━\u001b[0m\u001b[37m\u001b[0m \u001b[1m7s\u001b[0m 0us/step\n"
     ]
    }
   ],
   "source": [
    "# 使用ResNet50提取图片特征\n",
    "base_model = ResNet50(weights='imagenet', include_top=False, input_shape=(256, 256, 3))\n",
    "\n",
    "# 冻结ResNet50的层（不进行训练）\n",
    "for layer in base_model.layers:\n",
    "    layer.trainable = False"
   ]
  },
  {
   "cell_type": "code",
   "execution_count": 22,
   "id": "ff2db8c7-aa3a-4c67-8ea7-f5d7eaf3a8bd",
   "metadata": {},
   "outputs": [],
   "source": [
    "# 提取图片特征\n",
    "x = base_model.output\n",
    "x = GlobalAveragePooling2D()(x)  # 全局平均池化层，减少维度"
   ]
  },
  {
   "cell_type": "code",
   "execution_count": 23,
   "id": "e49f4d18-4573-49ac-9c9d-08fc4f2d74fc",
   "metadata": {},
   "outputs": [],
   "source": [
    "# 创建新的模型\n",
    "model_input = Input(shape=(256, 256, 3))\n",
    "x = base_model(model_input)\n",
    "x = GlobalAveragePooling2D()(x)\n",
    "model = Model(inputs=model_input, outputs=x)"
   ]
  },
  {
   "cell_type": "code",
   "execution_count": 24,
   "id": "9e38beb8-7199-4a63-bb49-030dc3251bd8",
   "metadata": {},
   "outputs": [
    {
     "name": "stdout",
     "output_type": "stream",
     "text": [
      "\u001b[1m8/8\u001b[0m \u001b[32m━━━━━━━━━━━━━━━━━━━━\u001b[0m\u001b[37m\u001b[0m \u001b[1m31s\u001b[0m 3s/step\n"
     ]
    }
   ],
   "source": [
    "# 提取所有图片的特征\n",
    "features = model.predict(images)"
   ]
  },
  {
   "cell_type": "markdown",
   "id": "0fe81d7a-b8cc-4f2e-8dcf-268c00cdeee4",
   "metadata": {},
   "source": [
    "5. 训练模型"
   ]
  },
  {
   "cell_type": "code",
   "execution_count": 27,
   "id": "f33b60ac-09b5-4f45-94bf-7a50398e3591",
   "metadata": {},
   "outputs": [
    {
     "name": "stdout",
     "output_type": "stream",
     "text": [
      "Epoch 1/20\n",
      "\u001b[1m8/8\u001b[0m \u001b[32m━━━━━━━━━━━━━━━━━━━━\u001b[0m\u001b[37m\u001b[0m \u001b[1m2s\u001b[0m 24ms/step - loss: 989031.9375\n",
      "Epoch 2/20\n",
      "\u001b[1m8/8\u001b[0m \u001b[32m━━━━━━━━━━━━━━━━━━━━\u001b[0m\u001b[37m\u001b[0m \u001b[1m0s\u001b[0m 16ms/step - loss: 947338.6250\n",
      "Epoch 3/20\n",
      "\u001b[1m8/8\u001b[0m \u001b[32m━━━━━━━━━━━━━━━━━━━━\u001b[0m\u001b[37m\u001b[0m \u001b[1m0s\u001b[0m 17ms/step - loss: 867083.0000\n",
      "Epoch 4/20\n",
      "\u001b[1m8/8\u001b[0m \u001b[32m━━━━━━━━━━━━━━━━━━━━\u001b[0m\u001b[37m\u001b[0m \u001b[1m0s\u001b[0m 18ms/step - loss: 728292.2500\n",
      "Epoch 5/20\n",
      "\u001b[1m8/8\u001b[0m \u001b[32m━━━━━━━━━━━━━━━━━━━━\u001b[0m\u001b[37m\u001b[0m \u001b[1m0s\u001b[0m 16ms/step - loss: 529535.0000\n",
      "Epoch 6/20\n",
      "\u001b[1m8/8\u001b[0m \u001b[32m━━━━━━━━━━━━━━━━━━━━\u001b[0m\u001b[37m\u001b[0m \u001b[1m0s\u001b[0m 17ms/step - loss: 298047.5938\n",
      "Epoch 7/20\n",
      "\u001b[1m8/8\u001b[0m \u001b[32m━━━━━━━━━━━━━━━━━━━━\u001b[0m\u001b[37m\u001b[0m \u001b[1m0s\u001b[0m 20ms/step - loss: 94335.7578 \n",
      "Epoch 8/20\n",
      "\u001b[1m8/8\u001b[0m \u001b[32m━━━━━━━━━━━━━━━━━━━━\u001b[0m\u001b[37m\u001b[0m \u001b[1m0s\u001b[0m 16ms/step - loss: 7161.1255 \n",
      "Epoch 9/20\n",
      "\u001b[1m8/8\u001b[0m \u001b[32m━━━━━━━━━━━━━━━━━━━━\u001b[0m\u001b[37m\u001b[0m \u001b[1m0s\u001b[0m 17ms/step - loss: 15534.3486\n",
      "Epoch 10/20\n",
      "\u001b[1m8/8\u001b[0m \u001b[32m━━━━━━━━━━━━━━━━━━━━\u001b[0m\u001b[37m\u001b[0m \u001b[1m0s\u001b[0m 16ms/step - loss: 11432.5049\n",
      "Epoch 11/20\n",
      "\u001b[1m8/8\u001b[0m \u001b[32m━━━━━━━━━━━━━━━━━━━━\u001b[0m\u001b[37m\u001b[0m \u001b[1m0s\u001b[0m 19ms/step - loss: 3513.3408\n",
      "Epoch 12/20\n",
      "\u001b[1m8/8\u001b[0m \u001b[32m━━━━━━━━━━━━━━━━━━━━\u001b[0m\u001b[37m\u001b[0m \u001b[1m0s\u001b[0m 19ms/step - loss: 3647.5356\n",
      "Epoch 13/20\n",
      "\u001b[1m8/8\u001b[0m \u001b[32m━━━━━━━━━━━━━━━━━━━━\u001b[0m\u001b[37m\u001b[0m \u001b[1m0s\u001b[0m 20ms/step - loss: 3332.4077\n",
      "Epoch 14/20\n",
      "\u001b[1m8/8\u001b[0m \u001b[32m━━━━━━━━━━━━━━━━━━━━\u001b[0m\u001b[37m\u001b[0m \u001b[1m0s\u001b[0m 16ms/step - loss: 2573.2458\n",
      "Epoch 15/20\n",
      "\u001b[1m8/8\u001b[0m \u001b[32m━━━━━━━━━━━━━━━━━━━━\u001b[0m\u001b[37m\u001b[0m \u001b[1m0s\u001b[0m 17ms/step - loss: 2519.0720\n",
      "Epoch 16/20\n",
      "\u001b[1m8/8\u001b[0m \u001b[32m━━━━━━━━━━━━━━━━━━━━\u001b[0m\u001b[37m\u001b[0m \u001b[1m0s\u001b[0m 17ms/step - loss: 2430.4136\n",
      "Epoch 17/20\n",
      "\u001b[1m8/8\u001b[0m \u001b[32m━━━━━━━━━━━━━━━━━━━━\u001b[0m\u001b[37m\u001b[0m \u001b[1m0s\u001b[0m 18ms/step - loss: 2299.7229\n",
      "Epoch 18/20\n",
      "\u001b[1m8/8\u001b[0m \u001b[32m━━━━━━━━━━━━━━━━━━━━\u001b[0m\u001b[37m\u001b[0m \u001b[1m0s\u001b[0m 17ms/step - loss: 2278.0798\n",
      "Epoch 19/20\n",
      "\u001b[1m8/8\u001b[0m \u001b[32m━━━━━━━━━━━━━━━━━━━━\u001b[0m\u001b[37m\u001b[0m \u001b[1m0s\u001b[0m 16ms/step - loss: 2423.1973\n",
      "Epoch 20/20\n",
      "\u001b[1m8/8\u001b[0m \u001b[32m━━━━━━━━━━━━━━━━━━━━\u001b[0m\u001b[37m\u001b[0m \u001b[1m0s\u001b[0m 17ms/step - loss: 2400.2620\n"
     ]
    },
    {
     "data": {
      "text/plain": [
       "<keras.src.callbacks.history.History at 0x2da124f75e0>"
      ]
     },
     "execution_count": 27,
     "metadata": {},
     "output_type": "execute_result"
    }
   ],
   "source": [
    "from tensorflow.keras.layers import Input\n",
    "\n",
    "# 创建回归模型\n",
    "score_model = Sequential([\n",
    "    Input(shape=(features.shape[1],)),  # 使用Input层指定输入形状\n",
    "    Dense(256, activation='relu'),  # 输入特征维度\n",
    "    Dense(128, activation='relu'),\n",
    "    Dense(1)  # 输出预测评分\n",
    "])\n",
    "\n",
    "score_model.compile(optimizer='adam', loss='mean_squared_error')  # 使用均方误差作为损失函数\n",
    "\n",
    "# 训练模型\n",
    "score_model.fit(features, scores, epochs=20, batch_size=32)\n"
   ]
  },
  {
   "cell_type": "markdown",
   "id": "2f42ef10-335b-44eb-9e2d-30a90b04f2f4",
   "metadata": {},
   "source": [
    "6. 模型评估"
   ]
  },
  {
   "cell_type": "code",
   "execution_count": 28,
   "id": "8bf3a530-4ca1-4d88-a6b8-f568d2a7a35d",
   "metadata": {},
   "outputs": [
    {
     "name": "stdout",
     "output_type": "stream",
     "text": [
      "\u001b[1m8/8\u001b[0m \u001b[32m━━━━━━━━━━━━━━━━━━━━\u001b[0m\u001b[37m\u001b[0m \u001b[1m0s\u001b[0m 14ms/step - loss: 2102.0649 \n",
      "Model Loss (MSE): 2300.202392578125\n"
     ]
    }
   ],
   "source": [
    "# 评估模型\n",
    "loss = score_model.evaluate(features, scores)\n",
    "print(\"Model Loss (MSE):\", loss)"
   ]
  },
  {
   "cell_type": "code",
   "execution_count": 41,
   "id": "ebafe36b-a4fe-4635-a6bb-74a798b2c55a",
   "metadata": {},
   "outputs": [
    {
     "data": {
      "image/png": "[encoded data removed]",
      "text/plain": [
       "<Figure size 640x480 with 1 Axes>"
      ]
     },
     "metadata": {},
     "output_type": "display_data"
    }
   ],
   "source": [
    "# 绘制损失曲线\n",
    "plt.plot(score_model.history.history['loss'], label='training loss')\n",
    "plt.legend()\n",
    "plt.title(\"loss change\")\n",
    "plt.show()\n",
    "\n",
    "# 绘制准确率曲线\n",
    "if 'accuracy' in score_model.history.history:\n",
    "    plt.plot(score_model.history.history['accuracy'], label='training accuracy')\n",
    "    plt.legend()\n",
    "    plt.title(\"accuracy change\")\n",
    "    plt.show()\n"
   ]
  },
  {
   "cell_type": "markdown",
   "id": "7bd9699d-9352-4f4e-8ea1-feef37391e77",
   "metadata": {},
   "source": [
    "7. 比较两张图片，预测哪个更符合你的喜好"
   ]
  },
  {
   "cell_type": "code",
   "execution_count": 35,
   "id": "86180524-4fc9-4ff6-86f3-9ddd2b459927",
   "metadata": {},
   "outputs": [
    {
     "name": "stdout",
     "output_type": "stream",
     "text": [
      "\u001b[1m1/1\u001b[0m \u001b[32m━━━━━━━━━━━━━━━━━━━━\u001b[0m\u001b[37m\u001b[0m \u001b[1m0s\u001b[0m 329ms/step\n",
      "\u001b[1m1/1\u001b[0m \u001b[32m━━━━━━━━━━━━━━━━━━━━\u001b[0m\u001b[37m\u001b[0m \u001b[1m0s\u001b[0m 317ms/step\n",
      "\u001b[1m1/1\u001b[0m \u001b[32m━━━━━━━━━━━━━━━━━━━━\u001b[0m\u001b[37m\u001b[0m \u001b[1m0s\u001b[0m 92ms/step\n",
      "\u001b[1m1/1\u001b[0m \u001b[32m━━━━━━━━━━━━━━━━━━━━\u001b[0m\u001b[37m\u001b[0m \u001b[1m0s\u001b[0m 95ms/step\n",
      "You prefer the second image.\n"
     ]
    }
   ],
   "source": [
    "img1 = cv2.imread('animal_pics/google-advancedsearch-2.jpg')  # 将路径替换为实际图片路径\n",
    "img2 = cv2.imread('animal_pics/google-advancedsearch-7.jpg')\n",
    "\n",
    "# 将图片转换为数组\n",
    "img1 = cv2.resize(img1, (256, 256))  # 如果使用OpenCV，需要先调整图像大小\n",
    "img1 = img1 / 255.0  # 归一化到0-1范围\n",
    "img1 = np.expand_dims(img1, axis=0)  # 增加批次维度\n",
    "\n",
    "img2 = cv2.resize(img2, (256, 256))  # 如果使用OpenCV，需要先调整图像大小\n",
    "img2 = img2 / 255.0  # 归一化到0-1范围\n",
    "img2 = np.expand_dims(img2, axis=0)  # 增加批次维度\n",
    "\n",
    "def compare_images(img1, img2):\n",
    "    # 提取图片特征\n",
    "    features1 = model.predict(img1)  # 直接传入已调整的图片\n",
    "    features2 = model.predict(img2)\n",
    "    \n",
    "    # 使用评分模型来预测评分\n",
    "    score1 = score_model.predict(features1)\n",
    "    score2 = score_model.predict(features2)\n",
    "    \n",
    "    if score1 > score2:\n",
    "        return \"You prefer the first image.\"\n",
    "    else:\n",
    "        return \"You prefer the second image.\"\n",
    "\n",
    "# 假设img1和img2是你要比较的两张图片\n",
    "\n",
    "print(compare_images(img1, img2))"
   ]
  },
  {
   "cell_type": "code",
   "execution_count": null,
   "id": "c3bc10e1-d410-4204-8bf6-88497fce1bb0",
   "metadata": {},
   "outputs": [],
   "source": []
  }
 ],
 "metadata": {
  "kernelspec": {
   "display_name": "classificationtry1",
   "language": "python",
   "name": "classificationtry1"
  },
  "language_info": {
   "codemirror_mode": {
    "name": "ipython",
    "version": 3
   },
   "file_extension": ".py",
   "mimetype": "text/x-python",
   "name": "python",
   "nbconvert_exporter": "python",
   "pygments_lexer": "ipython3",
   "version": "3.10.0"
  }
 },
 "nbformat": 4,
 "nbformat_minor": 5
}
