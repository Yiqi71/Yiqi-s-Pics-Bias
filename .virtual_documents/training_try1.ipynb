


pip install tensorflow


pip install opencv-python


pip install matplotlib


pip list


import tensorflow as tf
import os


# Avoid OOM errors by setting GPU Memory Consumption Growth
gpus = tf.config.experimental.list_physical_devices('GPU')
for gpu in gpus: 
    tf.config.experimental.set_memory_growth(gpu, True)


tf.config.list_physical_devices('GPU')





import cv2
import imghdr


data_dir = 'animal_pics'


os.listdir(data_dir)


image_exts = ['jpeg','jpg','png','bmp']


for image in os.listdir(data_dir):
    image_path = os.path.join(data_dir, image)
    try: 
        img = cv2.imread(image_path)
        tip = imghdr.what(image_path)
        if tip not in image_exts: 
            print('Image not in ext list {}'.format(image_path))
            os.remove(image_path)
    except Exception as e: 
        print('Issue with image {}'.format(image_path))
        # os.remove(image_path)






tf.data.Dataset??


import numpy as np
from matplotlib import pyplot as plt


data = tf.keras.utils.image_dataset_from_directory('data')



