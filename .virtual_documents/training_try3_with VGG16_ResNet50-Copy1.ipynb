








import os
import cv2
import pandas as pd
import numpy as np
import tensorflow as tf
from tensorflow.keras.preprocessing import image
from tensorflow.keras.applications import ResNet50
from tensorflow.keras.models import Model, Sequential
from tensorflow.keras.layers import Dense, GlobalAveragePooling2D, Input
from sklearn.model_selection import train_test_split
from sklearn.metrics import mean_squared_error
from tensorflow.keras.preprocessing.image import ImageDataGenerator
import numpy as np
from tensorflow.keras.preprocessing import image
import matplotlib.pyplot as plt





# 加载CSV文件
df = pd.read_csv('dogs_manual_score.csv')

# 获取图片路径和对应的评分
image_paths = df['Photo'].apply(lambda x: os.path.join('dog_pics', x)).tolist()
scores = df['Score'].tolist()






# 加载图片并进行预处理
def load_image(image_path):
    img = image.load_img(image_path, target_size=(256, 256))  # 读取并调整大小
    img_array = image.img_to_array(img)  # 转换为数组
    img_array = img_array / 255.0  # 归一化处理
    return img_array

# 处理所有图片
images = np.array([load_image(path) for path in image_paths])

# 拆分训练集和测试集（80% 训练，20% 测试）
X_train, X_test, y_train, y_test = train_test_split(images, scores, test_size=0.2, random_state=42)





# 使用ResNet50提取图片特征
base_model = ResNet50(weights='imagenet', include_top=False, input_shape=(256, 256, 3))

# 冻结ResNet50的层（不进行训练）
for layer in base_model.layers:
    layer.trainable = False


# 定义特征提取模型
feature_extractor = Model(inputs=base_model.input, outputs=GlobalAveragePooling2D()(base_model.output))

# 提取训练和测试集的特征
X_train_features = feature_extractor.predict(X_train)
X_test_features = feature_extractor.predict(X_test)






# 确保数据类型是 float32
X_train_features = X_train_features.astype(np.float32)
X_test_features = X_test_features.astype(np.float32)
y_train = np.array(y_train, dtype=np.float32)
y_test = np.array(y_test, dtype=np.float32)

# 打印数据形状，确保它是正确的
print("X_train_features shape:", X_train_features.shape)  # 例如 (num_samples, feature_dim)
print("X_test_features shape:", X_test_features.shape)
print("y_train shape:", y_train.shape)  # 例如 (num_samples,)
print("y_test shape:", y_test.shape)

# 构建评分预测模型（回归模型）
score_model = Sequential([
    Input(shape=(X_train_features.shape[1],)),  # 输入是 ResNet50 提取的特征
    Dense(256, activation='relu'),  # 隐藏层 1
    Dense(128, activation='relu'),  # 隐藏层 2
    Dense(1)  # 输出层：预测评分
])

# 编译模型
score_model.compile(optimizer='adam', loss='mean_squared_error', metrics=['mae'])

# 训练模型
history = score_model.fit(
    X_train_features, y_train,  # 训练数据
    epochs=20,  # 训练轮数
    batch_size=32,  # 批大小
    validation_data=(X_test_features, y_test)  # 验证集
)

# 可选：输出训练过程中每个epoch的损失和 MAE
print("Training history:", history.history)






# 评估模型
mse, mae = score_model.evaluate(X_test_features, y_test)
print(f"Model MSE: {mse}, MAE: {mae}")


# 计算皮尔逊相关系数
y_pred = score_model.predict(X_test_features)
correlation = np.corrcoef(y_test, y_pred.flatten())[0, 1]
print(f'Pearson correlation: {correlation}')






# 用训练好的模型预测评分
def predict_score(image_path):
    # 加载并预处理图片
    img_array = load_image(image_path)
    img_array = np.expand_dims(img_array, axis=0)  # 增加 batch 维度
    
    # 提取特征
    features = feature_extractor.predict(img_array)
    
    # 预测评分
    score = score_model.predict(features)
    
    return score[0][0]

# 测试：输入一张图片路径，返回其评分
test_image_path = 'dog_pics/test_dog.jpg'  # 这里替换成您的图片路径
predicted_score = predict_score(test_image_path)
print(f"Predicted score for the image: {predicted_score}")


img1 = cv2.imread('animal_pics/google-advancedsearch-2.jpg')  # 将路径替换为实际图片路径
img2 = cv2.imread('animal_pics/google-advancedsearch-7.jpg')

# 将图片转换为数组
img1 = cv2.resize(img1, (256, 256))  # 如果使用OpenCV，需要先调整图像大小
img1 = img1 / 255.0  # 归一化到0-1范围
img1 = np.expand_dims(img1, axis=0)  # 增加批次维度

img2 = cv2.resize(img2, (256, 256))  # 如果使用OpenCV，需要先调整图像大小
img2 = img2 / 255.0  # 归一化到0-1范围
img2 = np.expand_dims(img2, axis=0)  # 增加批次维度

def compare_images(img1, img2):
    # 提取图片特征
    features1 = model.predict(img1)  # 直接传入已调整的图片
    features2 = model.predict(img2)
    
    # 使用评分模型来预测评分
    score1 = score_model.predict(features1)
    score2 = score_model.predict(features2)
    
    if score1 > score2:
        return "You prefer the first image."
    else:
        return "You prefer the second image."

# 假设img1和img2是你要比较的两张图片

print(compare_images(img1, img2))



