








import os
import cv2
import pandas as pd
import numpy as np
import tensorflow as tf
from tensorflow.keras.preprocessing import image
from tensorflow.keras.applications import ResNet50
from tensorflow.keras.models import Model, Sequential
from tensorflow.keras.layers import Dense, GlobalAveragePooling2D, Input
from sklearn.model_selection import train_test_split





# 加载CSV文件
df = pd.read_csv('elo_scores.csv')

# 获取图片路径和对应的评分
image_paths = df['Photo'].apply(lambda x: os.path.join('animal_pics', x)).tolist()
scores = df['Score'].tolist()






# 加载图片并进行预处理
def load_image(image_path):
    img = image.load_img(image_path, target_size=(256, 256))  # 加载图片并调整大小
    img_array = image.img_to_array(img)  # 将图片转换为数组
    img_array = img_array / 255.0  # 归一化处理
    return img_array

images = [load_image(path) for path in image_paths]
images = np.array(images)  # 将所有图片数组合并为一个NumPy数组

# 将评分数据转换为NumPy数组
scores = np.array(scores)





# 使用ResNet50提取图片特征
base_model = ResNet50(weights='imagenet', include_top=False, input_shape=(256, 256, 3))

# 冻结ResNet50的层（不进行训练）
for layer in base_model.layers:
    layer.trainable = False


# 提取图片特征
x = base_model.output
x = GlobalAveragePooling2D()(x)  # 全局平均池化层，减少维度


# 创建新的模型
model_input = Input(shape=(256, 256, 3))
x = base_model(model_input)
x = GlobalAveragePooling2D()(x)
model = Model(inputs=model_input, outputs=x)


# 提取所有图片的特征
features = model.predict(images)





from tensorflow.keras.layers import Input

# 创建回归模型
score_model = Sequential([
    Input(shape=(features.shape[1],)),  # 使用Input层指定输入形状
    Dense(256, activation='relu'),  # 输入特征维度
    Dense(128, activation='relu'),
    Dense(1)  # 输出预测评分
])

score_model.compile(optimizer='adam', loss='mean_squared_error')  # 使用均方误差作为损失函数

# 训练模型
score_model.fit(features, scores, epochs=20, batch_size=32)






# 评估模型
loss = score_model.evaluate(features, scores)
print("Model Loss (MSE):", loss)


# 绘制损失曲线
plt.plot(score_model.history.history['loss'], label='training loss')
plt.legend()
plt.title("loss change")
plt.show()

# 绘制准确率曲线
if 'accuracy' in score_model.history.history:
    plt.plot(score_model.history.history['accuracy'], label='training accuracy')
    plt.legend()
    plt.title("accuracy change")
    plt.show()






img1 = cv2.imread('animal_pics/google-advancedsearch-2.jpg')  # 将路径替换为实际图片路径
img2 = cv2.imread('animal_pics/google-advancedsearch-7.jpg')

# 将图片转换为数组
img1 = cv2.resize(img1, (256, 256))  # 如果使用OpenCV，需要先调整图像大小
img1 = img1 / 255.0  # 归一化到0-1范围
img1 = np.expand_dims(img1, axis=0)  # 增加批次维度

img2 = cv2.resize(img2, (256, 256))  # 如果使用OpenCV，需要先调整图像大小
img2 = img2 / 255.0  # 归一化到0-1范围
img2 = np.expand_dims(img2, axis=0)  # 增加批次维度

def compare_images(img1, img2):
    # 提取图片特征
    features1 = model.predict(img1)  # 直接传入已调整的图片
    features2 = model.predict(img2)
    
    # 使用评分模型来预测评分
    score1 = score_model.predict(features1)
    score2 = score_model.predict(features2)
    
    if score1 > score2:
        return "You prefer the first image."
    else:
        return "You prefer the second image."

# 假设img1和img2是你要比较的两张图片

print(compare_images(img1, img2))



